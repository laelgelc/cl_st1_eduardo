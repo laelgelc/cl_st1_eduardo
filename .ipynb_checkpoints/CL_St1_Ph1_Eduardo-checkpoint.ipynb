{
 "cells": [
  {
   "cell_type": "markdown",
   "id": "810d9f10-ec19-4b09-8f90-e983e460b319",
   "metadata": {},
   "source": [
    "<center>\n",
    "<img src=\"https://laelgelcpublic.s3.sa-east-1.amazonaws.com/lael_50_years_narrow_white.png.no_years.400px_96dpi.png\" width=\"300\" alt=\"LAEL 50 years logo\">\n",
    "<h3>APPLIED LINGUISTICS GRADUATE PROGRAMME (LAEL)</h3>\n",
    "</center>\n",
    "<hr>"
   ]
  },
  {
   "cell_type": "markdown",
   "id": "888c2c96-2fc3-4a1a-995b-c388036a2a15",
   "metadata": {},
   "source": [
    "# Corpus Linguistics - Study 1 - Phase 1 - Eduardo"
   ]
  },
  {
   "cell_type": "markdown",
   "id": "c43e68a9-ed79-47fd-be36-c33b295a8ca7",
   "metadata": {},
   "source": [
    "# `Corpus de Vídeos de Divulgação Científica` (CVDC) _corpus_ compilation via `yt-dlp`"
   ]
  },
  {
   "cell_type": "markdown",
   "id": "54d88c03-5604-4cdc-b1fc-4e0482ef5191",
   "metadata": {},
   "source": [
    "## What is `yt-dlp`?"
   ]
  },
  {
   "cell_type": "markdown",
   "id": "495cc745-08b9-4976-944d-51e6f66b4483",
   "metadata": {},
   "source": [
    "yt-dlp is a feature-rich command-line audio/video downloader.\n",
    "\n",
    "Please refer to:\n",
    "\n",
    "- [yt-dlp](https://github.com/yt-dlp/yt-dlp)"
   ]
  },
  {
   "cell_type": "markdown",
   "id": "aad30d3b-1629-4097-afab-b17fd2ff9c7d",
   "metadata": {},
   "source": [
    "## Preliminary data collection"
   ]
  },
  {
   "cell_type": "markdown",
   "id": "fe12bfa4-2d6e-44ca-9474-e76d8f2fdfdf",
   "metadata": {},
   "source": [
    "## Query to Copilot"
   ]
  },
  {
   "cell_type": "markdown",
   "id": "3ff6f480-4506-488f-b688-60e8cdc841d4",
   "metadata": {},
   "source": [
    "Hi! How are you doing, mate? I am conducting research about Portuguese language for scientific popularisation. Could you please find me a set of 100 YouTube videos in Portuguese that explain about the following scientific topics in an easy to understand way, in other words, that use language that is accessible and engrossing to lay people?\n",
    "- Linguística de Corpus\n",
    "- Análise Multidimensional\n",
    "- Discurso\n",
    "- Infodemia"
   ]
  },
  {
   "cell_type": "markdown",
   "id": "46109640-c349-4a42-b30d-2d6192fad916",
   "metadata": {},
   "source": [
    "## Results"
   ]
  },
  {
   "cell_type": "markdown",
   "id": "e49f06bc-a889-4bdc-bbe1-e7cfb13c39d5",
   "metadata": {},
   "source": [
    "Copilot's response can be found here: [YouTube Videos on Linguistics and Discourse Analysis in Portuguese](https://copilot.microsoft.com/sl/1lnaMfI52i)"
   ]
  },
  {
   "cell_type": "code",
   "execution_count": 1,
   "id": "dd6d3d74-e3a2-45ed-9749-ffcaed2acb8c",
   "metadata": {},
   "outputs": [],
   "source": [
    "cvdc_videos = {\n",
    "    'Apresentando a Linguística de Corpus': 'https://youtu.be/QiyQHUGgmi4?si=NqkPQl3I0h-bPuyt',\n",
    "    'O que é Linguística de Corpus?': 'https://youtu.be/FxCwGq9DW7M?si=h-2B4TQgAijfhjbC',\n",
    "    'Aula aberta - Linguística de Corpus para Tradutores': 'https://www.youtube.com/live/heo2D5Rk018?si=sSrdejM7XhTm8yuO',\n",
    "    'Análise do discurso - Coleção linguística para ensino superior.': 'https://youtu.be/BIKhTvCNzfw?si=5440D6A_P_X30_Ob',\n",
    "    'Linguística IV Aula 01 Introduçãoà Análise do Discurso': 'https://youtu.be/NWYO-K-cWkk?si=7fClDaFRWwmd9Wr6'\n",
    "}"
   ]
  },
  {
   "cell_type": "code",
   "execution_count": null,
   "id": "6b6de7c0-6fb4-4d1e-984d-65d6839d2548",
   "metadata": {},
   "outputs": [],
   "source": []
  }
 ],
 "metadata": {
  "kernelspec": {
   "display_name": "Python 3 (ipykernel)",
   "language": "python",
   "name": "python3"
  },
  "language_info": {
   "codemirror_mode": {
    "name": "ipython",
    "version": 3
   },
   "file_extension": ".py",
   "mimetype": "text/x-python",
   "name": "python",
   "nbconvert_exporter": "python",
   "pygments_lexer": "ipython3",
   "version": "3.12.3"
  }
 },
 "nbformat": 4,
 "nbformat_minor": 5
}
